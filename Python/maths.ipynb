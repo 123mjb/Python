{
 "cells": [
  {
   "cell_type": "code",
   "execution_count": 13,
   "metadata": {},
   "outputs": [
    {
     "name": "stdout",
     "output_type": "stream",
     "text": [
      "4194304\n"
     ]
    }
   ],
   "source": [
    "number = 1\n",
    "secondnumber = 0\n",
    "while number < 4000000:\n",
    "    if number % 2 == 0:\n",
    "        secondnumber += number\n",
    "    number += number\n",
    "print(number)"
   ]
  }
 ],
 "metadata": {
  "interpreter": {
   "hash": "5ebe5396b9d548638ae07eb7acdd33fb8456461ac505da8d31d0e3d4712094aa"
  },
  "kernelspec": {
   "display_name": "Python 3.9.7 64-bit",
   "language": "python",
   "name": "python3"
  },
  "language_info": {
   "codemirror_mode": {
    "name": "ipython",
    "version": 3
   },
   "file_extension": ".py",
   "mimetype": "text/x-python",
   "name": "python",
   "nbconvert_exporter": "python",
   "pygments_lexer": "ipython3",
   "version": "3.9.7"
  },
  "orig_nbformat": 4
 },
 "nbformat": 4,
 "nbformat_minor": 2
}
